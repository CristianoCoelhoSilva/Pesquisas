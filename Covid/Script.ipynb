{
  "nbformat": 4,
  "nbformat_minor": 0,
  "metadata": {
    "colab": {
      "name": "Script.ipynb",
      "provenance": [],
      "collapsed_sections": [],
      "toc_visible": true,
      "include_colab_link": true
    },
    "kernelspec": {
      "display_name": "Python 3",
      "language": "python",
      "name": "python3"
    },
    "language_info": {
      "codemirror_mode": {
        "name": "ipython",
        "version": 3
      },
      "file_extension": ".py",
      "mimetype": "text/x-python",
      "name": "python",
      "nbconvert_exporter": "python",
      "pygments_lexer": "ipython3",
      "version": "3.7.6"
    }
  },
  "cells": [
    {
      "cell_type": "markdown",
      "metadata": {
        "id": "view-in-github",
        "colab_type": "text"
      },
      "source": [
        "<a href=\"https://colab.research.google.com/github/CristianoCoelhoSilva/Python/blob/master/Script.ipynb\" target=\"_parent\"><img src=\"https://colab.research.google.com/assets/colab-badge.svg\" alt=\"Open In Colab\"/></a>"
      ]
    },
    {
      "cell_type": "code",
      "metadata": {
        "id": "4IszfXBQ6oi3",
        "colab": {
          "base_uri": "https://localhost:8080/"
        },
        "outputId": "83495b67-ab17-47c9-e5c8-12d9c175463a"
      },
      "source": [
        "import numpy as np\n",
        "import pandas as pd\n",
        "import seaborn\n",
        "import matplotlib\n",
        "import pydotplus\n",
        "import matplotlib.pyplot as plt\n",
        "import statsmodels.api as sm\n",
        "from sklearn.impute import SimpleImputer, KNNImputer\n",
        "from sklearn.pipeline import make_pipeline\n",
        "from sklearn.compose import make_column_selector, make_column_transformer\n",
        "from sklearn.preprocessing import StandardScaler, OneHotEncoder\n",
        "from sklearn.neighbors import KNeighborsClassifier\n",
        "from sklearn.metrics import accuracy_score\n",
        "from sklearn.metrics import roc_auc_score\n",
        "from sklearn.tree import DecisionTreeClassifier\n",
        "from sklearn.naive_bayes import GaussianNB\n",
        "from sklearn.ensemble import RandomForestClassifier\n",
        "from sklearn.model_selection import GridSearchCV\n",
        "from sklearn.model_selection import cross_val_score\n",
        "from sklearn.model_selection import StratifiedKFold\n",
        "from sklearn.model_selection import KFold\n",
        "from sklearn.feature_selection import SelectKBest\n",
        "from sklearn.feature_selection import chi2\n",
        "from sklearn.ensemble import RandomForestClassifier\n",
        "from sklearn.model_selection import train_test_split\n",
        "from sklearn.linear_model import LinearRegression\n",
        "from sklearn.feature_selection import RFE\n",
        "from sklearn.linear_model import RidgeCV, LassoCV, Ridge, Lasso#Loading the dataset\n",
        "from sklearn.metrics import confusion_matrix\n",
        "from sklearn.externals.six import StringIO  \n",
        "from IPython.display import Image  \n",
        "from sklearn.tree import export_graphviz\n",
        "from sklearn import preprocessing"
      ],
      "execution_count": 3,
      "outputs": [
        {
          "output_type": "stream",
          "text": [
            "/usr/local/lib/python3.6/dist-packages/statsmodels/tools/_testing.py:19: FutureWarning: pandas.util.testing is deprecated. Use the functions in the public API at pandas.testing instead.\n",
            "  import pandas.util.testing as tm\n",
            "/usr/local/lib/python3.6/dist-packages/sklearn/externals/six.py:31: FutureWarning: The module is deprecated in version 0.21 and will be removed in version 0.23 since we've dropped support for Python 2.7. Please rely on the official version of six (https://pypi.org/project/six/).\n",
            "  \"(https://pypi.org/project/six/).\", FutureWarning)\n"
          ],
          "name": "stderr"
        }
      ]
    },
    {
      "cell_type": "markdown",
      "metadata": {
        "id": "DiNqYFKOhWt4"
      },
      "source": [
        "## Script"
      ]
    },
    {
      "cell_type": "code",
      "metadata": {
        "id": "-iMnxLmXabtu",
        "scrolled": true
      },
      "source": [
        "#Arquivo completo\n",
        "df = pd.read_csv(r\"https://raw.githubusercontent.com/CristianoCoelhoSilva/Python/master/Python/covid.csv\")\n",
        "\n",
        "df.drop([\"ENTUBADO\"], axis=\"columns\", inplace=True)"
      ],
      "execution_count": 8,
      "outputs": []
    },
    {
      "cell_type": "code",
      "metadata": {
        "colab": {
          "base_uri": "https://localhost:8080/",
          "height": 352
        },
        "id": "NqTCjkZ0ArB2",
        "outputId": "b2bd50c0-3a47-4abc-c978-bb1001f74975"
      },
      "source": [
        "count_class_0, count_class_1 = df.INTERNADO.value_counts()# Divide by class\n",
        "df_class_0 = df[df['INTERNADO'] == 0]\n",
        "df_class_1 = df[df['INTERNADO'] == 1]\n",
        "df_class_0_under = df_class_0.sample(count_class_1)\n",
        "df_test_under = pd.concat([df_class_0_under, df_class_1], axis=0)\n",
        "print('Random under-sampling:')\n",
        "print(df_test_under.INTERNADO.value_counts())\n",
        "\n",
        "df_test_under.INTERNADO.value_counts().plot(kind='bar', title='Count (INTERNADO)',color = ['#1F77B4', '#FF7F0E']);"
      ],
      "execution_count": 18,
      "outputs": [
        {
          "output_type": "stream",
          "text": [
            "Random under-sampling:\n",
            "1    651\n",
            "0    651\n",
            "Name: INTERNADO, dtype: int64\n"
          ],
          "name": "stdout"
        },
        {
          "output_type": "display_data",
          "data": {
            "image/png": "[encoded data removed]",
            "text/plain": [
              "<Figure size 432x288 with 1 Axes>"
            ]
          },
          "metadata": {
            "tags": [],
            "needs_background": "light"
          }
        }
      ]
    },
    {
      "cell_type": "code",
      "metadata": {
        "id": "oiIEUZKsBfSH"
      },
      "source": [
        "labels = df_test_under.columns[2:]\n",
        "\n",
        "df_test_under\n",
        "\n",
        "X = df_test_under[labels]\n",
        "y = df_test_under['INTERNADO']\n",
        "\n",
        "X_train, X_test, y_train, y_test = train_test_split(X, y, test_size=0.25, random_state=1,shuffle =True)"
      ],
      "execution_count": 31,
      "outputs": []
    },
    {
      "cell_type": "code",
      "metadata": {
        "id": "PdQMto5g3xat"
      },
      "source": [
        "from sklearn.compose import ColumnTransformer\n",
        "from sklearn.pipeline import Pipeline\n",
        "from sklearn.linear_model import Perceptron\n",
        "\n",
        "pipeline_estendido = Pipeline([\n",
        "    (\"pre_process\", make_column_transformer(\n",
        "                              (Pipeline([\n",
        "                                  ('imputer', KNNImputer(n_neighbors = 3)),\n",
        "                                  ('scaler', StandardScaler())\n",
        "                              ]) , make_column_selector(dtype_include = np.number)),\n",
        "                              (Pipeline([\n",
        "                                  (\"imputer\", SimpleImputer(strategy = 'most_frequent', fill_value = \"unknown\")),\n",
        "                                  (\"encoder\", OneHotEncoder(handle_unknown = 'ignore'))\n",
        "                              ]), make_column_selector(dtype_exclude = np.number))\n",
        "                          )),\n",
        "    #(\"knn\", KNeighborsClassifier())\n",
        "    #('tree', DecisionTreeClassifier())\n",
        "    ('Random_forest',RandomForestClassifier())\n",
        "])"
      ],
      "execution_count": 32,
      "outputs": []
    },
    {
      "cell_type": "code",
      "metadata": {
        "id": "TYfoqVxX-GWA",
        "outputId": "42154fee-b4c5-4d50-d0e1-740555f2dee5"
      },
      "source": [
        "import pprint as pp\n",
        "\n",
        "pp.pprint(sorted(pipeline_estendido.get_params().keys()))"
      ],
      "execution_count": null,
      "outputs": [
        {
          "output_type": "stream",
          "text": [
            "['Random_forest',\n",
            " 'Random_forest__bootstrap',\n",
            " 'Random_forest__ccp_alpha',\n",
            " 'Random_forest__class_weight',\n",
            " 'Random_forest__criterion',\n",
            " 'Random_forest__max_depth',\n",
            " 'Random_forest__max_features',\n",
            " 'Random_forest__max_leaf_nodes',\n",
            " 'Random_forest__max_samples',\n",
            " 'Random_forest__min_impurity_decrease',\n",
            " 'Random_forest__min_impurity_split',\n",
            " 'Random_forest__min_samples_leaf',\n",
            " 'Random_forest__min_samples_split',\n",
            " 'Random_forest__min_weight_fraction_leaf',\n",
            " 'Random_forest__n_estimators',\n",
            " 'Random_forest__n_jobs',\n",
            " 'Random_forest__oob_score',\n",
            " 'Random_forest__random_state',\n",
            " 'Random_forest__verbose',\n",
            " 'Random_forest__warm_start',\n",
            " 'memory',\n",
            " 'pre_process',\n",
            " 'pre_process__n_jobs',\n",
            " 'pre_process__pipeline-1',\n",
            " 'pre_process__pipeline-1__imputer',\n",
            " 'pre_process__pipeline-1__imputer__add_indicator',\n",
            " 'pre_process__pipeline-1__imputer__copy',\n",
            " 'pre_process__pipeline-1__imputer__metric',\n",
            " 'pre_process__pipeline-1__imputer__missing_values',\n",
            " 'pre_process__pipeline-1__imputer__n_neighbors',\n",
            " 'pre_process__pipeline-1__imputer__weights',\n",
            " 'pre_process__pipeline-1__memory',\n",
            " 'pre_process__pipeline-1__scaler',\n",
            " 'pre_process__pipeline-1__scaler__copy',\n",
            " 'pre_process__pipeline-1__scaler__with_mean',\n",
            " 'pre_process__pipeline-1__scaler__with_std',\n",
            " 'pre_process__pipeline-1__steps',\n",
            " 'pre_process__pipeline-1__verbose',\n",
            " 'pre_process__pipeline-2',\n",
            " 'pre_process__pipeline-2__encoder',\n",
            " 'pre_process__pipeline-2__encoder__categories',\n",
            " 'pre_process__pipeline-2__encoder__drop',\n",
            " 'pre_process__pipeline-2__encoder__dtype',\n",
            " 'pre_process__pipeline-2__encoder__handle_unknown',\n",
            " 'pre_process__pipeline-2__encoder__sparse',\n",
            " 'pre_process__pipeline-2__imputer',\n",
            " 'pre_process__pipeline-2__imputer__add_indicator',\n",
            " 'pre_process__pipeline-2__imputer__copy',\n",
            " 'pre_process__pipeline-2__imputer__fill_value',\n",
            " 'pre_process__pipeline-2__imputer__missing_values',\n",
            " 'pre_process__pipeline-2__imputer__strategy',\n",
            " 'pre_process__pipeline-2__imputer__verbose',\n",
            " 'pre_process__pipeline-2__memory',\n",
            " 'pre_process__pipeline-2__steps',\n",
            " 'pre_process__pipeline-2__verbose',\n",
            " 'pre_process__remainder',\n",
            " 'pre_process__sparse_threshold',\n",
            " 'pre_process__transformer_weights',\n",
            " 'pre_process__transformers',\n",
            " 'pre_process__verbose',\n",
            " 'steps',\n",
            " 'verbose']\n"
          ],
          "name": "stdout"
        }
      ]
    },
    {
      "cell_type": "code",
      "metadata": {
        "id": "cJB_Hb95BnGF"
      },
      "source": [
        "#Knn\n",
        "#param_grid_estendido = {\n",
        "#    \"pre_process__pipeline-1__imputer__n_neighbors\": range(1, 5),\n",
        "#    \"pre_process__pipeline-2__imputer__strategy\": ['most_frequent', 'constant'],\n",
        "#    \"knn__n_neighbors\": range(1, 2),\n",
        "#    \"knn__weights\": ['uniform', 'distance'],\n",
        "#    \"knn__algorithm\": ['auto', 'ball_tree', 'kd_tree', 'brute'],\n",
        "#    \"knn__n_jobs\": range(1,2)   \n",
        "#}\n",
        "\n",
        "#Decision Tree\n",
        "#param_grid_estendido = {\n",
        "#    \"pre_process__pipeline-1__imputer__n_neighbors\": range(1, 10),\n",
        "#    \"pre_process__pipeline-2__imputer__strategy\": ['most_frequent', 'constant'],\n",
        "#    \"tree__min_samples_leaf\": range(1, 3),\n",
        "#    \"tree__splitter\": ['best', 'random'],\n",
        "#    \"tree__criterion\": ['gini','entropy'],\n",
        "#    \"tree__max_depth\": range(1,3),\n",
        "#    \"tree__max_features\": range(1,3)   \n",
        "#}\n",
        "\n",
        "#Random_forest\n",
        "param_grid_estendido = {\n",
        "    \"pre_process__pipeline-1__imputer__n_neighbors\": range(1, 5),\n",
        "    \"pre_process__pipeline-2__imputer__strategy\": ['most_frequent', 'constant'],\n",
        "    \"Random_forest__n_estimators\": range(1, 10),\n",
        "    \"Random_forest__max_features\": ['sqrt', 'auto', 'log2'],\n",
        "    \"Random_forest__criterion\": ['gini','entropy']\n",
        "}\n"
      ],
      "execution_count": 33,
      "outputs": []
    },
    {
      "cell_type": "code",
      "metadata": {
        "id": "r-OTu8-1xLpv"
      },
      "source": [
        "classificador_estendido = GridSearchCV(estimator = pipeline_estendido,\n",
        "                                       param_grid = param_grid_estendido,\n",
        "                                       scoring = \"roc_auc\",\n",
        "                                       cv = 10,\n",
        "                                       refit = True)"
      ],
      "execution_count": 34,
      "outputs": []
    },
    {
      "cell_type": "code",
      "metadata": {
        "id": "lMlJeHALBwnQ",
        "colab": {
          "base_uri": "https://localhost:8080/"
        },
        "outputId": "d8fdd518-2e88-40f3-84cc-a4c5339609af"
      },
      "source": [
        "#rus = RandomUnderSampler()\n",
        "\n",
        "classificador_estendido.fit(X_train, y_train)"
      ],
      "execution_count": 35,
      "outputs": [
        {
          "output_type": "execute_result",
          "data": {
            "text/plain": [
              "GridSearchCV(cv=10, error_score=nan,\n",
              "             estimator=Pipeline(memory=None,\n",
              "                                steps=[('pre_process',\n",
              "                                        ColumnTransformer(n_jobs=None,\n",
              "                                                          remainder='drop',\n",
              "                                                          sparse_threshold=0.3,\n",
              "                                                          transformer_weights=None,\n",
              "                                                          transformers=[('pipeline-1',\n",
              "                                                                         Pipeline(memory=None,\n",
              "                                                                                  steps=[('imputer',\n",
              "                                                                                          KNNImputer(add_indicator=False,\n",
              "                                                                                                     copy=True,\n",
              "                                                                                                     metric='nan_euclidean',\n",
              "                                                                                                     missing_values=nan,\n",
              "                                                                                                     n_neighbors=3,\n",
              "                                                                                                     weigh...\n",
              "             param_grid={'Random_forest__criterion': ['gini', 'entropy'],\n",
              "                         'Random_forest__max_features': ['sqrt', 'auto',\n",
              "                                                         'log2'],\n",
              "                         'Random_forest__n_estimators': range(1, 10),\n",
              "                         'pre_process__pipeline-1__imputer__n_neighbors': range(1, 5),\n",
              "                         'pre_process__pipeline-2__imputer__strategy': ['most_frequent',\n",
              "                                                                        'constant']},\n",
              "             pre_dispatch='2*n_jobs', refit=True, return_train_score=False,\n",
              "             scoring='roc_auc', verbose=0)"
            ]
          },
          "metadata": {
            "tags": []
          },
          "execution_count": 35
        }
      ]
    },
    {
      "cell_type": "code",
      "metadata": {
        "colab": {
          "base_uri": "https://localhost:8080/"
        },
        "id": "CcVSTjcq77bX",
        "outputId": "1b7c4ce4-c6f4-41d3-a37c-261cb54fc3d1"
      },
      "source": [
        "print(\"Melhor parâmetro do modelo knn: \")\n",
        "print(classificador_estendido.best_params_)\n",
        "\n",
        "print(\"Desempenho médio no fold de teste: \")\n",
        "print(np.mean(classificador_estendido.cv_results_['mean_test_score']))\n",
        "\n",
        "print(\"\\nDesvio padrão: \")\n",
        "#dúvida: np.std ou np.mean?\n",
        "print(np.mean(classificador_estendido.cv_results_['std_test_score']))"
      ],
      "execution_count": 36,
      "outputs": [
        {
          "output_type": "stream",
          "text": [
            "Melhor parâmetro do modelo knn: \n",
            "{'Random_forest__criterion': 'gini', 'Random_forest__max_features': 'sqrt', 'Random_forest__n_estimators': 5, 'pre_process__pipeline-1__imputer__n_neighbors': 1, 'pre_process__pipeline-2__imputer__strategy': 'constant'}\n",
            "Desempenho médio no fold de teste: \n",
            "0.9948529505694\n",
            "\n",
            "Desvio padrão: \n",
            "0.005621042207809243\n"
          ],
          "name": "stdout"
        }
      ]
    },
    {
      "cell_type": "code",
      "metadata": {
        "colab": {
          "base_uri": "https://localhost:8080/"
        },
        "id": "OXph1LRYzipd",
        "outputId": "f4c98ade-961c-4f6d-b72f-f38ac6893dba"
      },
      "source": [
        "y_pred = classificador_estendido.predict(X_test)\n",
        "\n",
        "accuracy_score(y_pred = y_pred,\n",
        "               y_true = y_test)"
      ],
      "execution_count": 37,
      "outputs": [
        {
          "output_type": "execute_result",
          "data": {
            "text/plain": [
              "1.0"
            ]
          },
          "metadata": {
            "tags": []
          },
          "execution_count": 37
        }
      ]
    },
    {
      "cell_type": "code",
      "metadata": {
        "colab": {
          "base_uri": "https://localhost:8080/"
        },
        "id": "5m56Wn1V4FoC",
        "outputId": "a82b823a-d57f-4e74-84c5-c1e3f034fced"
      },
      "source": [
        "from sklearn.metrics import confusion_matrix\n",
        "\n",
        "roc_auc_score(y_pred, y_test)"
      ],
      "execution_count": 38,
      "outputs": [
        {
          "output_type": "execute_result",
          "data": {
            "text/plain": [
              "1.0"
            ]
          },
          "metadata": {
            "tags": []
          },
          "execution_count": 38
        }
      ]
    },
    {
      "cell_type": "code",
      "metadata": {
        "colab": {
          "base_uri": "https://localhost:8080/",
          "height": 298
        },
        "id": "0eI99nvq4KPc",
        "outputId": "dc4655f5-61c2-43e5-bf48-d1e946f98310"
      },
      "source": [
        "from sklearn.metrics import plot_confusion_matrix\n",
        "\n",
        "plot_confusion_matrix(classificador_estendido, X_test, y_test, values_format = '')"
      ],
      "execution_count": 39,
      "outputs": [
        {
          "output_type": "execute_result",
          "data": {
            "text/plain": [
              "<sklearn.metrics._plot.confusion_matrix.ConfusionMatrixDisplay at 0x7fbfba202ba8>"
            ]
          },
          "metadata": {
            "tags": []
          },
          "execution_count": 39
        },
        {
          "output_type": "display_data",
          "data": {
            "image/png": "[encoded data removed]",
            "text/plain": [
              "<Figure size 432x288 with 2 Axes>"
            ]
          },
          "metadata": {
            "tags": [],
            "needs_background": "light"
          }
        }
      ]
    },
    {
      "cell_type": "code",
      "metadata": {
        "colab": {
          "base_uri": "https://localhost:8080/",
          "height": 279
        },
        "id": "zIx6CpEU2Dk3",
        "outputId": "f907dc61-dca4-4920-8a28-4fdf6b9487fa"
      },
      "source": [
        "from sklearn.metrics import plot_roc_curve\n",
        "plot_roc_curve(classificador_estendido, X_test, y_test)\n",
        "identity_line, = plt.plot([0,1],\n",
        "                          [0,1])\n",
        "identity_line.set_dashes([5, 5, 5, 5])"
      ],
      "execution_count": 40,
      "outputs": [
        {
          "output_type": "display_data",
          "data": {
            "image/png": "[encoded data removed]",
            "text/plain": [
              "<Figure size 432x288 with 1 Axes>"
            ]
          },
          "metadata": {
            "tags": [],
            "needs_background": "light"
          }
        }
      ]
    },
    {
      "cell_type": "code",
      "metadata": {
        "id": "90ixYknw_ys-"
      },
      "source": [
        ""
      ],
      "execution_count": null,
      "outputs": []
    }
  ]
}