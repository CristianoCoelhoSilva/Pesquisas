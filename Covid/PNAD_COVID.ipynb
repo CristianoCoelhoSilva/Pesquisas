{
  "nbformat": 4,
  "nbformat_minor": 0,
  "metadata": {
    "kernelspec": {
      "display_name": "Python 3",
      "language": "python",
      "name": "python3"
    },
    "language_info": {
      "codemirror_mode": {
        "name": "ipython",
        "version": 3
      },
      "file_extension": ".py",
      "mimetype": "text/x-python",
      "name": "python",
      "nbconvert_exporter": "python",
      "pygments_lexer": "ipython3",
      "version": "3.7.6"
    },
    "colab": {
      "name": "PNAD_COVID.ipynb",
      "provenance": [],
      "collapsed_sections": [],
      "include_colab_link": true
    }
  },
  "cells": [
    {
      "cell_type": "markdown",
      "metadata": {
        "id": "view-in-github",
        "colab_type": "text"
      },
      "source": [
        "<a href=\"https://colab.research.google.com/github/CristianoCoelhoSilva/Python/blob/master/PNAD_COVID.ipynb\" target=\"_parent\"><img src=\"https://colab.research.google.com/assets/colab-badge.svg\" alt=\"Open In Colab\"/></a>"
      ]
    },
    {
      "cell_type": "markdown",
      "metadata": {
        "id": "1DcMxk1d6oiz"
      },
      "source": [
        "# Pesquisa Nacional por Amostra de Domicílios - PNAD COVID19\n",
        "\n",
        "Objetiva estimar o número de pessoas com sintomas referidos associados à síndrome gripal e monitorar os impactos da pandemia da COVID-19 no mercado de trabalho brasileiro.\n",
        "\n",
        "A coleta da Pesquisa Nacional por Amostra de Domicílios - PNAD COVID19 teve início em 4 de maio de 2020, com entrevistas realizadas por telefone em, aproximadamente, 48 mil domicílios por semana, totalizando cerca de 193 mil domicílios por mês, em todo o Território Nacional. A amostra é fixa, ou seja, os domicílios entrevistados no primeiro mês de coleta de dados permanecerão na amostra nos meses subsequentes, até o fim da pesquisa.\n",
        "\n",
        "O questionário se divide em duas partes, sendo uma direcionada a questões de saúde, especificamente sobre sintomas associados à síndrome gripal e outra, a questões de trabalho. Nas questões de saúde, investiga-se a ocorrência de alguns dos principais sintomas da COVID19 no período de referência da pesquisa, considerando-se todos os moradores do domicílio. Para aqueles que apresentaram algum sintoma, perguntam-se quais as providências tomadas para alivio dos sintomas; se buscaram por atendimento médico devido a esses sintomas; e o tipo de estabelecimento de saúde procurado. Nas questões de trabalho, busca-se classificar a população em idade de trabalhar nas seguintes categorias: ocupados, desocupados e pessoas fora da força de trabalho. Investiga-se, ainda, os seguintes aspectos: ocupação e atividade; afastamento do trabalho e o motivo do afastamento; exercício de trabalho remoto; busca por trabalho; motivo por não ter procurado trabalho; horas semanais efetivamente e habitualmente trabalhadas; assim como o rendimento efetivo e habitual do trabalho. Por fim, visando compor o rendimento domiciliar, pergunta-se se algum morador recebeu outros rendimentos não oriundos do trabalho, tais como: aposentadoria, BPC-LOAS, Bolsa Família, algum auxílio emergencial relacionado à COVID, seguro desemprego, aluguel e outros. Cabe ressaltar que a PNAD COVID19 é uma pesquisa com instrumento dinâmico de coleta das informações; portanto, o questionário está sujeito a alterações ao longo do período de sua aplicação.\n",
        "\n",
        "A pesquisa prevê divulgações semanais para alguns indicadores, em nível Brasil, e divulgações mensais para um conjunto mais amplo de indicadores, por Unidades da Federação.\n",
        "\n",
        "Os resultados da PNAD COVID19 são pioneiros no sentido de constituírem a primeira divulgação de Estatísticas Experimentais elaboradas pelo IBGE, as quais estão alinhadas com a estratégia de modernização do Instituto e permitem a ampliação das ofertas de informação para atender às necessidades de seus usuários.\n",
        "\n",
        "https://www.ibge.gov.br/estatisticas/downloads-estatisticas.html?caminho=Trabalho_e_Rendimento/Pesquisa_Nacional_por_Amostra_de_Domicilios_PNAD_COVID19/Microdados/Dados"
      ]
    },
    {
      "cell_type": "markdown",
      "metadata": {
        "id": "VdS8cR2e6oi1"
      },
      "source": [
        "# Características dos dados\n",
        "\n",
        "Parte 1 - Identificação e Controle\n",
        "Parte A - Características gerais dos moradores\n",
        "Parte B - COVID19 - Todos os moradores\n",
        "Parte C - Características de trabalho das pessoas de 14 anos ou mais de idade\n",
        "Parte D - Rendimento de outras fontes dos moradores de 14 anos ou mais de idade\n",
        "Parte E - Empréstimos\n",
        "Parte Suplementar 01 - Características da habitação\n"
      ]
    },
    {
      "cell_type": "markdown",
      "metadata": {
        "id": "JOrLMbeV6oi1"
      },
      "source": [
        "# Prospecção de Internação e sedação, entubação ou colocado em respiração artificial com ventilador de COVID-19 em relação aos sintomas sentidos e diagnóstico de comorbidade\n",
        "\n",
        "\n",
        "A COVID-19 afeta diferentes pessoas de diferentes maneiras. A maioria das pessoas infectadas apresentará sintomas leves a moderados da doença e não precisarão ser hospitalizadas. De acordo com a base de dados coletada e tratada, a nossa intenção é predizer qual é a chance de uma pessoa que sentiu algum dos sintomas (febre, tosse, dor de garganta, difilcudade de respirar dor de cabeça, dor no peito, nausea, nariz entupido ou escorrendo, fadiga, dor nos olhos, perdade de paladar ou olfato, dor muscular ou diarreia) e que tem ou não algum diagnostico de algum comorbidade como diabetes, obesidade, hipertensão, tuberculose, entre outros, aumentam a possíbilidade de internação ou entubação.\n",
        "\n",
        "# Tratamento dos dados\n",
        "\n",
        "# Passo 1\n",
        "\n",
        "Vamos remover as colunas que julgamos não acrescentarem nenhum valor ao nosso modelo.\n",
        "\n",
        "\n",
        "    NUMERO            - Número de Ordem\n",
        "    SEMANA            - Semana no mês\n",
        "    NUMERO_ENTREVISTA - Número da Entrevista\n",
        "    NUMERO_ORDEM      - Número de Ordem\n",
        "    UF                - Unidade Federativa\n",
        "    SITUACAO          - Situação do domicílio (Urbana; Rural)\n",
        "    DOMICILIO         - \n",
        "    RESPONDEU         - Quem respondeu ao questionário\n",
        "    ESCOLARIDADE      - Nível escolar\n",
        " \n",
        "# Passo 2\n",
        "\n",
        "Para predizer se uma pessoa tem a possibilidade de ser internada vamos revomer a váriavel B006 - Durante a internação, foi sedado, entubado e colocado em respiração artificial com ventilador?"
      ]
    },
    {
      "cell_type": "code",
      "metadata": {
        "colab": {
          "base_uri": "https://localhost:8080/",
          "height": 120
        },
        "id": "4IszfXBQ6oi3",
        "outputId": "20a46d2d-6766-4842-b72b-22ebdba0df24"
      },
      "source": [
        "import numpy as np\n",
        "import pandas as pd\n",
        "from sklearn.impute import SimpleImputer, KNNImputer\n",
        "from sklearn.pipeline import make_pipeline\n",
        "from sklearn.compose import make_column_selector, make_column_transformer\n",
        "from sklearn.preprocessing import StandardScaler, OneHotEncoder\n",
        "from sklearn.neighbors import KNeighborsClassifier\n",
        "from sklearn.model_selection import train_test_split\n",
        "from sklearn.metrics import accuracy_score\n",
        "from sklearn.tree import DecisionTreeClassifier\n",
        "from sklearn.naive_bayes import GaussianNB\n",
        "from sklearn.ensemble import RandomForestClassifier\n",
        "from sklearn.model_selection import GridSearchCV\n",
        "from sklearn.model_selection import cross_val_score\n",
        "from sklearn.model_selection import StratifiedKFold\n",
        "\n",
        "#Arquivo completo\n",
        "#df = pd.read_csv(r\"https://raw.githubusercontent.com/CristianoCoelhoSilva/Python/master/Python/covid.csv\")\n",
        "#Arquivo com apenas 2 mil Observações\n",
        "df = pd.read_csv(r\"https://raw.githubusercontent.com/CristianoCoelhoSilva/Python/master/Python/covid_limit.csv\")\n",
        "\n",
        "df.describe()\n",
        "#df\n",
        "#df.columns\n",
        "#df.head\n",
        "#type(df)\n",
        "\n",
        "#Removendo as colunas\n",
        "df.drop([\"NUMERO\",\"SEMANA\",\"NUMERO_ENTREVISTA\",\"NUMERO_ORDEM\",\"UF\",\"SITUACAO\",\"DOMICILIO\",\"RESPONDEU\",\"ESCOLARIDADE\"], axis=\"columns\", inplace=True)\n",
        "df.drop([\"B006\"], axis=\"columns\", inplace=True)\n",
        "\n",
        "\n",
        "X = df.drop(['B005'], axis = \"columns\")\n",
        "y = df.B005\n",
        "\n",
        "X_train, X_test, y_train, y_test = train_test_split(X, y, test_size = 0.3, random_state = 13)\n",
        "\n",
        "# Cria nosso pipeline para pré-processamento com imputação, dummização e normalização\n",
        "encoder_imputer_scaled_transformer = make_column_transformer(\n",
        "    (make_pipeline(\n",
        "        (KNNImputer(n_neighbors = 3)),\n",
        "        (StandardScaler())\n",
        "    ) , make_column_selector(dtype_include = np.number)),\n",
        "    (make_pipeline(\n",
        "        SimpleImputer(strategy = 'most_frequent'),\n",
        "        OneHotEncoder(handle_unknown = 'ignore'),\n",
        "    ), make_column_selector(dtype_exclude = np.number)),\n",
        "    remainder = 'passthrough'\n",
        ")\n",
        "\n",
        "encoder_imputer_scaled_transformer.fit(X_train)\n",
        "\n",
        "X_train_processed = encoder_imputer_scaled_transformer.transform(X_train)\n",
        "X_test_processed = encoder_imputer_scaled_transformer.transform(X_test)\n",
        "\n",
        "knn = KNeighborsClassifier(n_neighbors = 3)\n",
        "  \n",
        "knn.fit(X_train_processed, y_train)\n",
        "# Avalia a performance do algoritmo utilizando a métrica de accuracy\n",
        "y_pred = knn.predict(X_test_processed)\n",
        "accuracy = accuracy_score(y_true = y_test, y_pred = y_pred)\n",
        "\n",
        "print(accuracy)\n",
        "\n",
        "'''\n",
        "for algoritimo in range(4):\n",
        "  # Algoritimos\n",
        "  if algoritimo == 0:\n",
        "    print('Knn')\n",
        "    clf = KNeighborsClassifier(n_neighbors = 3)\n",
        "  elif algoritimo ==1:\n",
        "    print('Decision Tree')\n",
        "    clf = DecisionTreeClassifier(criterion=\"entropy\", max_depth=4)\n",
        "  elif algoritimo ==2:\n",
        "    print('NB')\n",
        "    clf = GaussianNB()\n",
        "    clf.fit(X_train_processed, y_train)\n",
        "  elif algoritimo ==3:\n",
        "    print('Random Forest')\n",
        "    clf = RandomForestClassifier()\n",
        "  clf.fit(X_train_processed, y_train)\n",
        "  # Avalia a performance do algoritmo utilizando a métrica de accuracy\n",
        "  y_pred = clf.predict(X_test_processed)\n",
        "  accuracy = accuracy_score(y_true = y_test, y_pred = y_pred)\n",
        "'''\n",
        "\n",
        "  \n"
      ],
      "execution_count": 13,
      "outputs": [
        {
          "output_type": "stream",
          "text": [
            "0.8561643835616438\n"
          ],
          "name": "stdout"
        },
        {
          "output_type": "execute_result",
          "data": {
            "application/vnd.google.colaboratory.intrinsic+json": {
              "type": "string"
            },
            "text/plain": [
              "'\\nfor algoritimo in range(4):\\n  # Algoritimos\\n  if algoritimo == 0:\\n    print(\\'Knn\\')\\n    clf = KNeighborsClassifier(n_neighbors = 3)\\n  elif algoritimo ==1:\\n    print(\\'Decision Tree\\')\\n    clf = DecisionTreeClassifier(criterion=\"entropy\", max_depth=4)\\n  elif algoritimo ==2:\\n    print(\\'NB\\')\\n    clf = GaussianNB()\\n    clf.fit(X_train_processed, y_train)\\n  elif algoritimo ==3:\\n    print(\\'Random Forest\\')\\n    clf = RandomForestClassifier()\\n  clf.fit(X_train_processed, y_train)\\n  # Avalia a performance do algoritmo utilizando a métrica de accuracy\\n  y_pred = clf.predict(X_test_processed)\\n  accuracy = accuracy_score(y_true = y_test, y_pred = y_pred)\\n'"
            ]
          },
          "metadata": {
            "tags": []
          },
          "execution_count": 13
        }
      ]
    },
    {
      "cell_type": "code",
      "metadata": {
        "id": "fOR9WvJ4g5iy"
      },
      "source": [
        ""
      ],
      "execution_count": null,
      "outputs": []
    },
    {
      "cell_type": "code",
      "metadata": {
        "id": "bjLX0foGTf9K"
      },
      "source": [
        "#confusion_matrix(y_test, y_pred)\n",
        "\n",
        "#dot_data = StringIO()\n",
        "#export_graphviz(clf, out_file=dot_data,  \n",
        "#                filled=True, rounded=True,\n",
        "#                special_characters=True)\n",
        "#graph = pydotplus.graph_from_dot_data(dot_data.getvalue())  \n",
        "#Image(graph.create_png())\n"
      ],
      "execution_count": 92,
      "outputs": []
    },
    {
      "cell_type": "markdown",
      "metadata": {
        "id": "I_nvqpRb6oi8"
      },
      "source": [
        "## Aplicando o $k$-fold cross-validation para avaliação do modelo"
      ]
    },
    {
      "cell_type": "code",
      "metadata": {
        "id": "R5Rm8AbT6oi9"
      },
      "source": [
        "X_processed = encoder_imputer_scaled_transformer.fit_transform(X)"
      ],
      "execution_count": 11,
      "outputs": []
    },
    {
      "cell_type": "code",
      "metadata": {
        "colab": {
          "base_uri": "https://localhost:8080/"
        },
        "id": "HEaMBVco6oi-",
        "outputId": "4def4191-3a52-4880-d70e-359275c8893c"
      },
      "source": [
        "scores = cross_val_score(estimator = knn, \n",
        "                         X = X_processed, # usamos a base completa agora\n",
        "                         y = y, \n",
        "                         cv=10, \n",
        "                         scoring='accuracy')\n",
        "\n",
        "print(\"Acurácia em cada fold: {}\".format(scores))\n",
        "print(\"Acurácia média nos folds: {}\".format(np.mean(scores)))"
      ],
      "execution_count": 14,
      "outputs": [
        {
          "output_type": "stream",
          "text": [
            "Acurácia em cada fold: [0.87692308 0.87692308 0.87692308 0.85128205 0.86153846 0.82474227\n",
            " 0.87113402 0.81958763 0.78865979 0.86597938]\n",
            "Acurácia média nos folds: 0.8513692836373249\n"
          ],
          "name": "stdout"
        }
      ]
    },
    {
      "cell_type": "markdown",
      "metadata": {
        "id": "huvTsA7R6oi-"
      },
      "source": [
        "## Qual é o efeito da quantidade de folds nas estimativas?"
      ]
    },
    {
      "cell_type": "code",
      "metadata": {
        "colab": {
          "base_uri": "https://localhost:8080/"
        },
        "id": "DTquNLICFNvw",
        "outputId": "2f440b9f-8810-46b6-c61c-97e444695089"
      },
      "source": [
        "import seaborn\n",
        "import matplotlib.pyplot as plt\n",
        "\n",
        "clf = KNeighborsClassifier(n_neighbors = 3)\n",
        "  \n",
        "clf.fit(X_train_processed, y_train)\n",
        "# Avalia a performance do algoritmo utilizando a métrica de accuracy\n",
        "y_pred = clf.predict(X_test_processed)\n",
        "accuracy = accuracy_score(y_true = y_test, y_pred = y_pred)\n",
        "\n",
        "print(accuracy)"
      ],
      "execution_count": 15,
      "outputs": [
        {
          "output_type": "stream",
          "text": [
            "0.8561643835616438\n"
          ],
          "name": "stdout"
        }
      ]
    },
    {
      "cell_type": "code",
      "metadata": {
        "colab": {
          "base_uri": "https://localhost:8080/",
          "height": 357
        },
        "id": "QxNfwMkBFXJI",
        "outputId": "b105380f-df45-447e-b5a6-b8e36d2b6255"
      },
      "source": [
        "import seaborn\n",
        "import matplotlib.pyplot as plt\n",
        "from sklearn.model_selection import StratifiedKFold\n",
        "from sklearn.model_selection import KFold\n",
        "\n",
        "results_cross_validation = []\n",
        "for k in range(3, 51):\n",
        "  for time in range(30):\n",
        "    kf = KFold(n_splits=k, shuffle=True).split(X_processed)\n",
        "    scores = cross_val_score(knn, X_processed, y, cv=kf, scoring='accuracy')\n",
        "    results_cross_validation = results_cross_validation + [[k, time, np.mean(scores)]]"
      ],
      "execution_count": 20,
      "outputs": [
        {
          "output_type": "error",
          "ename": "KeyboardInterrupt",
          "evalue": "ignored",
          "traceback": [
            "\u001b[0;31m---------------------------------------------------------------------------\u001b[0m",
            "\u001b[0;31mKeyboardInterrupt\u001b[0m                         Traceback (most recent call last)",
            "\u001b[0;32m<ipython-input-20-7897debade64>\u001b[0m in \u001b[0;36m<module>\u001b[0;34m()\u001b[0m\n\u001b[1;32m      8\u001b[0m   \u001b[0;32mfor\u001b[0m \u001b[0mtime\u001b[0m \u001b[0;32min\u001b[0m \u001b[0mrange\u001b[0m\u001b[0;34m(\u001b[0m\u001b[0;36m30\u001b[0m\u001b[0;34m)\u001b[0m\u001b[0;34m:\u001b[0m\u001b[0;34m\u001b[0m\u001b[0;34m\u001b[0m\u001b[0m\n\u001b[1;32m      9\u001b[0m     \u001b[0mkf\u001b[0m \u001b[0;34m=\u001b[0m \u001b[0mKFold\u001b[0m\u001b[0;34m(\u001b[0m\u001b[0mn_splits\u001b[0m\u001b[0;34m=\u001b[0m\u001b[0mk\u001b[0m\u001b[0;34m,\u001b[0m \u001b[0mshuffle\u001b[0m\u001b[0;34m=\u001b[0m\u001b[0;32mTrue\u001b[0m\u001b[0;34m)\u001b[0m\u001b[0;34m.\u001b[0m\u001b[0msplit\u001b[0m\u001b[0;34m(\u001b[0m\u001b[0mX_processed\u001b[0m\u001b[0;34m)\u001b[0m\u001b[0;34m\u001b[0m\u001b[0;34m\u001b[0m\u001b[0m\n\u001b[0;32m---> 10\u001b[0;31m     \u001b[0mscores\u001b[0m \u001b[0;34m=\u001b[0m \u001b[0mcross_val_score\u001b[0m\u001b[0;34m(\u001b[0m\u001b[0mknn\u001b[0m\u001b[0;34m,\u001b[0m \u001b[0mX_processed\u001b[0m\u001b[0;34m,\u001b[0m \u001b[0my\u001b[0m\u001b[0;34m,\u001b[0m \u001b[0mcv\u001b[0m\u001b[0;34m=\u001b[0m\u001b[0mkf\u001b[0m\u001b[0;34m,\u001b[0m \u001b[0mscoring\u001b[0m\u001b[0;34m=\u001b[0m\u001b[0;34m'accuracy'\u001b[0m\u001b[0;34m)\u001b[0m\u001b[0;34m\u001b[0m\u001b[0;34m\u001b[0m\u001b[0m\n\u001b[0m\u001b[1;32m     11\u001b[0m     \u001b[0mresults_cross_validation\u001b[0m \u001b[0;34m=\u001b[0m \u001b[0mresults_cross_validation\u001b[0m \u001b[0;34m+\u001b[0m \u001b[0;34m[\u001b[0m\u001b[0;34m[\u001b[0m\u001b[0mk\u001b[0m\u001b[0;34m,\u001b[0m \u001b[0mtime\u001b[0m\u001b[0;34m,\u001b[0m \u001b[0mnp\u001b[0m\u001b[0;34m.\u001b[0m\u001b[0mmean\u001b[0m\u001b[0;34m(\u001b[0m\u001b[0mscores\u001b[0m\u001b[0;34m)\u001b[0m\u001b[0;34m]\u001b[0m\u001b[0;34m]\u001b[0m\u001b[0;34m\u001b[0m\u001b[0;34m\u001b[0m\u001b[0m\n",
            "\u001b[0;32m/usr/local/lib/python3.6/dist-packages/sklearn/model_selection/_validation.py\u001b[0m in \u001b[0;36mcross_val_score\u001b[0;34m(estimator, X, y, groups, scoring, cv, n_jobs, verbose, fit_params, pre_dispatch, error_score)\u001b[0m\n\u001b[1;32m    388\u001b[0m                                 \u001b[0mfit_params\u001b[0m\u001b[0;34m=\u001b[0m\u001b[0mfit_params\u001b[0m\u001b[0;34m,\u001b[0m\u001b[0;34m\u001b[0m\u001b[0;34m\u001b[0m\u001b[0m\n\u001b[1;32m    389\u001b[0m                                 \u001b[0mpre_dispatch\u001b[0m\u001b[0;34m=\u001b[0m\u001b[0mpre_dispatch\u001b[0m\u001b[0;34m,\u001b[0m\u001b[0;34m\u001b[0m\u001b[0;34m\u001b[0m\u001b[0m\n\u001b[0;32m--> 390\u001b[0;31m                                 error_score=error_score)\n\u001b[0m\u001b[1;32m    391\u001b[0m     \u001b[0;32mreturn\u001b[0m \u001b[0mcv_results\u001b[0m\u001b[0;34m[\u001b[0m\u001b[0;34m'test_score'\u001b[0m\u001b[0;34m]\u001b[0m\u001b[0;34m\u001b[0m\u001b[0;34m\u001b[0m\u001b[0m\n\u001b[1;32m    392\u001b[0m \u001b[0;34m\u001b[0m\u001b[0m\n",
            "\u001b[0;32m/usr/local/lib/python3.6/dist-packages/sklearn/model_selection/_validation.py\u001b[0m in \u001b[0;36mcross_validate\u001b[0;34m(estimator, X, y, groups, scoring, cv, n_jobs, verbose, fit_params, pre_dispatch, return_train_score, return_estimator, error_score)\u001b[0m\n\u001b[1;32m    234\u001b[0m             \u001b[0mreturn_times\u001b[0m\u001b[0;34m=\u001b[0m\u001b[0;32mTrue\u001b[0m\u001b[0;34m,\u001b[0m \u001b[0mreturn_estimator\u001b[0m\u001b[0;34m=\u001b[0m\u001b[0mreturn_estimator\u001b[0m\u001b[0;34m,\u001b[0m\u001b[0;34m\u001b[0m\u001b[0;34m\u001b[0m\u001b[0m\n\u001b[1;32m    235\u001b[0m             error_score=error_score)\n\u001b[0;32m--> 236\u001b[0;31m         for train, test in cv.split(X, y, groups))\n\u001b[0m\u001b[1;32m    237\u001b[0m \u001b[0;34m\u001b[0m\u001b[0m\n\u001b[1;32m    238\u001b[0m     \u001b[0mzipped_scores\u001b[0m \u001b[0;34m=\u001b[0m \u001b[0mlist\u001b[0m\u001b[0;34m(\u001b[0m\u001b[0mzip\u001b[0m\u001b[0;34m(\u001b[0m\u001b[0;34m*\u001b[0m\u001b[0mscores\u001b[0m\u001b[0;34m)\u001b[0m\u001b[0;34m)\u001b[0m\u001b[0;34m\u001b[0m\u001b[0;34m\u001b[0m\u001b[0m\n",
            "\u001b[0;32m/usr/local/lib/python3.6/dist-packages/joblib/parallel.py\u001b[0m in \u001b[0;36m__call__\u001b[0;34m(self, iterable)\u001b[0m\n\u001b[1;32m   1049\u001b[0m                 \u001b[0mself\u001b[0m\u001b[0;34m.\u001b[0m\u001b[0m_iterating\u001b[0m \u001b[0;34m=\u001b[0m \u001b[0mself\u001b[0m\u001b[0;34m.\u001b[0m\u001b[0m_original_iterator\u001b[0m \u001b[0;32mis\u001b[0m \u001b[0;32mnot\u001b[0m \u001b[0;32mNone\u001b[0m\u001b[0;34m\u001b[0m\u001b[0;34m\u001b[0m\u001b[0m\n\u001b[1;32m   1050\u001b[0m \u001b[0;34m\u001b[0m\u001b[0m\n\u001b[0;32m-> 1051\u001b[0;31m             \u001b[0;32mwhile\u001b[0m \u001b[0mself\u001b[0m\u001b[0;34m.\u001b[0m\u001b[0mdispatch_one_batch\u001b[0m\u001b[0;34m(\u001b[0m\u001b[0miterator\u001b[0m\u001b[0;34m)\u001b[0m\u001b[0;34m:\u001b[0m\u001b[0;34m\u001b[0m\u001b[0;34m\u001b[0m\u001b[0m\n\u001b[0m\u001b[1;32m   1052\u001b[0m                 \u001b[0;32mpass\u001b[0m\u001b[0;34m\u001b[0m\u001b[0;34m\u001b[0m\u001b[0m\n\u001b[1;32m   1053\u001b[0m \u001b[0;34m\u001b[0m\u001b[0m\n",
            "\u001b[0;32m/usr/local/lib/python3.6/dist-packages/joblib/parallel.py\u001b[0m in \u001b[0;36mdispatch_one_batch\u001b[0;34m(self, iterator)\u001b[0m\n\u001b[1;32m    864\u001b[0m                 \u001b[0;32mreturn\u001b[0m \u001b[0;32mFalse\u001b[0m\u001b[0;34m\u001b[0m\u001b[0;34m\u001b[0m\u001b[0m\n\u001b[1;32m    865\u001b[0m             \u001b[0;32melse\u001b[0m\u001b[0;34m:\u001b[0m\u001b[0;34m\u001b[0m\u001b[0;34m\u001b[0m\u001b[0m\n\u001b[0;32m--> 866\u001b[0;31m                 \u001b[0mself\u001b[0m\u001b[0;34m.\u001b[0m\u001b[0m_dispatch\u001b[0m\u001b[0;34m(\u001b[0m\u001b[0mtasks\u001b[0m\u001b[0;34m)\u001b[0m\u001b[0;34m\u001b[0m\u001b[0;34m\u001b[0m\u001b[0m\n\u001b[0m\u001b[1;32m    867\u001b[0m                 \u001b[0;32mreturn\u001b[0m \u001b[0;32mTrue\u001b[0m\u001b[0;34m\u001b[0m\u001b[0;34m\u001b[0m\u001b[0m\n\u001b[1;32m    868\u001b[0m \u001b[0;34m\u001b[0m\u001b[0m\n",
            "\u001b[0;32m/usr/local/lib/python3.6/dist-packages/joblib/parallel.py\u001b[0m in \u001b[0;36m_dispatch\u001b[0;34m(self, batch)\u001b[0m\n\u001b[1;32m    782\u001b[0m         \u001b[0;32mwith\u001b[0m \u001b[0mself\u001b[0m\u001b[0;34m.\u001b[0m\u001b[0m_lock\u001b[0m\u001b[0;34m:\u001b[0m\u001b[0;34m\u001b[0m\u001b[0;34m\u001b[0m\u001b[0m\n\u001b[1;32m    783\u001b[0m             \u001b[0mjob_idx\u001b[0m \u001b[0;34m=\u001b[0m \u001b[0mlen\u001b[0m\u001b[0;34m(\u001b[0m\u001b[0mself\u001b[0m\u001b[0;34m.\u001b[0m\u001b[0m_jobs\u001b[0m\u001b[0;34m)\u001b[0m\u001b[0;34m\u001b[0m\u001b[0;34m\u001b[0m\u001b[0m\n\u001b[0;32m--> 784\u001b[0;31m             \u001b[0mjob\u001b[0m \u001b[0;34m=\u001b[0m \u001b[0mself\u001b[0m\u001b[0;34m.\u001b[0m\u001b[0m_backend\u001b[0m\u001b[0;34m.\u001b[0m\u001b[0mapply_async\u001b[0m\u001b[0;34m(\u001b[0m\u001b[0mbatch\u001b[0m\u001b[0;34m,\u001b[0m \u001b[0mcallback\u001b[0m\u001b[0;34m=\u001b[0m\u001b[0mcb\u001b[0m\u001b[0;34m)\u001b[0m\u001b[0;34m\u001b[0m\u001b[0;34m\u001b[0m\u001b[0m\n\u001b[0m\u001b[1;32m    785\u001b[0m             \u001b[0;31m# A job can complete so quickly than its callback is\u001b[0m\u001b[0;34m\u001b[0m\u001b[0;34m\u001b[0m\u001b[0;34m\u001b[0m\u001b[0m\n\u001b[1;32m    786\u001b[0m             \u001b[0;31m# called before we get here, causing self._jobs to\u001b[0m\u001b[0;34m\u001b[0m\u001b[0;34m\u001b[0m\u001b[0;34m\u001b[0m\u001b[0m\n",
            "\u001b[0;32m/usr/local/lib/python3.6/dist-packages/joblib/_parallel_backends.py\u001b[0m in \u001b[0;36mapply_async\u001b[0;34m(self, func, callback)\u001b[0m\n\u001b[1;32m    206\u001b[0m     \u001b[0;32mdef\u001b[0m \u001b[0mapply_async\u001b[0m\u001b[0;34m(\u001b[0m\u001b[0mself\u001b[0m\u001b[0;34m,\u001b[0m \u001b[0mfunc\u001b[0m\u001b[0;34m,\u001b[0m \u001b[0mcallback\u001b[0m\u001b[0;34m=\u001b[0m\u001b[0;32mNone\u001b[0m\u001b[0;34m)\u001b[0m\u001b[0;34m:\u001b[0m\u001b[0;34m\u001b[0m\u001b[0;34m\u001b[0m\u001b[0m\n\u001b[1;32m    207\u001b[0m         \u001b[0;34m\"\"\"Schedule a func to be run\"\"\"\u001b[0m\u001b[0;34m\u001b[0m\u001b[0;34m\u001b[0m\u001b[0m\n\u001b[0;32m--> 208\u001b[0;31m         \u001b[0mresult\u001b[0m \u001b[0;34m=\u001b[0m \u001b[0mImmediateResult\u001b[0m\u001b[0;34m(\u001b[0m\u001b[0mfunc\u001b[0m\u001b[0;34m)\u001b[0m\u001b[0;34m\u001b[0m\u001b[0;34m\u001b[0m\u001b[0m\n\u001b[0m\u001b[1;32m    209\u001b[0m         \u001b[0;32mif\u001b[0m \u001b[0mcallback\u001b[0m\u001b[0;34m:\u001b[0m\u001b[0;34m\u001b[0m\u001b[0;34m\u001b[0m\u001b[0m\n\u001b[1;32m    210\u001b[0m             \u001b[0mcallback\u001b[0m\u001b[0;34m(\u001b[0m\u001b[0mresult\u001b[0m\u001b[0;34m)\u001b[0m\u001b[0;34m\u001b[0m\u001b[0;34m\u001b[0m\u001b[0m\n",
            "\u001b[0;32m/usr/local/lib/python3.6/dist-packages/joblib/_parallel_backends.py\u001b[0m in \u001b[0;36m__init__\u001b[0;34m(self, batch)\u001b[0m\n\u001b[1;32m    570\u001b[0m         \u001b[0;31m# Don't delay the application, to avoid keeping the input\u001b[0m\u001b[0;34m\u001b[0m\u001b[0;34m\u001b[0m\u001b[0;34m\u001b[0m\u001b[0m\n\u001b[1;32m    571\u001b[0m         \u001b[0;31m# arguments in memory\u001b[0m\u001b[0;34m\u001b[0m\u001b[0;34m\u001b[0m\u001b[0;34m\u001b[0m\u001b[0m\n\u001b[0;32m--> 572\u001b[0;31m         \u001b[0mself\u001b[0m\u001b[0;34m.\u001b[0m\u001b[0mresults\u001b[0m \u001b[0;34m=\u001b[0m \u001b[0mbatch\u001b[0m\u001b[0;34m(\u001b[0m\u001b[0;34m)\u001b[0m\u001b[0;34m\u001b[0m\u001b[0;34m\u001b[0m\u001b[0m\n\u001b[0m\u001b[1;32m    573\u001b[0m \u001b[0;34m\u001b[0m\u001b[0m\n\u001b[1;32m    574\u001b[0m     \u001b[0;32mdef\u001b[0m \u001b[0mget\u001b[0m\u001b[0;34m(\u001b[0m\u001b[0mself\u001b[0m\u001b[0;34m)\u001b[0m\u001b[0;34m:\u001b[0m\u001b[0;34m\u001b[0m\u001b[0;34m\u001b[0m\u001b[0m\n",
            "\u001b[0;32m/usr/local/lib/python3.6/dist-packages/joblib/parallel.py\u001b[0m in \u001b[0;36m__call__\u001b[0;34m(self)\u001b[0m\n\u001b[1;32m    261\u001b[0m         \u001b[0;32mwith\u001b[0m \u001b[0mparallel_backend\u001b[0m\u001b[0;34m(\u001b[0m\u001b[0mself\u001b[0m\u001b[0;34m.\u001b[0m\u001b[0m_backend\u001b[0m\u001b[0;34m,\u001b[0m \u001b[0mn_jobs\u001b[0m\u001b[0;34m=\u001b[0m\u001b[0mself\u001b[0m\u001b[0;34m.\u001b[0m\u001b[0m_n_jobs\u001b[0m\u001b[0;34m)\u001b[0m\u001b[0;34m:\u001b[0m\u001b[0;34m\u001b[0m\u001b[0;34m\u001b[0m\u001b[0m\n\u001b[1;32m    262\u001b[0m             return [func(*args, **kwargs)\n\u001b[0;32m--> 263\u001b[0;31m                     for func, args, kwargs in self.items]\n\u001b[0m\u001b[1;32m    264\u001b[0m \u001b[0;34m\u001b[0m\u001b[0m\n\u001b[1;32m    265\u001b[0m     \u001b[0;32mdef\u001b[0m \u001b[0m__reduce__\u001b[0m\u001b[0;34m(\u001b[0m\u001b[0mself\u001b[0m\u001b[0;34m)\u001b[0m\u001b[0;34m:\u001b[0m\u001b[0;34m\u001b[0m\u001b[0;34m\u001b[0m\u001b[0m\n",
            "\u001b[0;32m/usr/local/lib/python3.6/dist-packages/joblib/parallel.py\u001b[0m in \u001b[0;36m<listcomp>\u001b[0;34m(.0)\u001b[0m\n\u001b[1;32m    261\u001b[0m         \u001b[0;32mwith\u001b[0m \u001b[0mparallel_backend\u001b[0m\u001b[0;34m(\u001b[0m\u001b[0mself\u001b[0m\u001b[0;34m.\u001b[0m\u001b[0m_backend\u001b[0m\u001b[0;34m,\u001b[0m \u001b[0mn_jobs\u001b[0m\u001b[0;34m=\u001b[0m\u001b[0mself\u001b[0m\u001b[0;34m.\u001b[0m\u001b[0m_n_jobs\u001b[0m\u001b[0;34m)\u001b[0m\u001b[0;34m:\u001b[0m\u001b[0;34m\u001b[0m\u001b[0;34m\u001b[0m\u001b[0m\n\u001b[1;32m    262\u001b[0m             return [func(*args, **kwargs)\n\u001b[0;32m--> 263\u001b[0;31m                     for func, args, kwargs in self.items]\n\u001b[0m\u001b[1;32m    264\u001b[0m \u001b[0;34m\u001b[0m\u001b[0m\n\u001b[1;32m    265\u001b[0m     \u001b[0;32mdef\u001b[0m \u001b[0m__reduce__\u001b[0m\u001b[0;34m(\u001b[0m\u001b[0mself\u001b[0m\u001b[0;34m)\u001b[0m\u001b[0;34m:\u001b[0m\u001b[0;34m\u001b[0m\u001b[0;34m\u001b[0m\u001b[0m\n",
            "\u001b[0;32m/usr/local/lib/python3.6/dist-packages/sklearn/model_selection/_validation.py\u001b[0m in \u001b[0;36m_fit_and_score\u001b[0;34m(estimator, X, y, scorer, train, test, verbose, parameters, fit_params, return_train_score, return_parameters, return_n_test_samples, return_times, return_estimator, error_score)\u001b[0m\n\u001b[1;32m    506\u001b[0m     \u001b[0mstart_time\u001b[0m \u001b[0;34m=\u001b[0m \u001b[0mtime\u001b[0m\u001b[0;34m.\u001b[0m\u001b[0mtime\u001b[0m\u001b[0;34m(\u001b[0m\u001b[0;34m)\u001b[0m\u001b[0;34m\u001b[0m\u001b[0;34m\u001b[0m\u001b[0m\n\u001b[1;32m    507\u001b[0m \u001b[0;34m\u001b[0m\u001b[0m\n\u001b[0;32m--> 508\u001b[0;31m     \u001b[0mX_train\u001b[0m\u001b[0;34m,\u001b[0m \u001b[0my_train\u001b[0m \u001b[0;34m=\u001b[0m \u001b[0m_safe_split\u001b[0m\u001b[0;34m(\u001b[0m\u001b[0mestimator\u001b[0m\u001b[0;34m,\u001b[0m \u001b[0mX\u001b[0m\u001b[0;34m,\u001b[0m \u001b[0my\u001b[0m\u001b[0;34m,\u001b[0m \u001b[0mtrain\u001b[0m\u001b[0;34m)\u001b[0m\u001b[0;34m\u001b[0m\u001b[0;34m\u001b[0m\u001b[0m\n\u001b[0m\u001b[1;32m    509\u001b[0m     \u001b[0mX_test\u001b[0m\u001b[0;34m,\u001b[0m \u001b[0my_test\u001b[0m \u001b[0;34m=\u001b[0m \u001b[0m_safe_split\u001b[0m\u001b[0;34m(\u001b[0m\u001b[0mestimator\u001b[0m\u001b[0;34m,\u001b[0m \u001b[0mX\u001b[0m\u001b[0;34m,\u001b[0m \u001b[0my\u001b[0m\u001b[0;34m,\u001b[0m \u001b[0mtest\u001b[0m\u001b[0;34m,\u001b[0m \u001b[0mtrain\u001b[0m\u001b[0;34m)\u001b[0m\u001b[0;34m\u001b[0m\u001b[0;34m\u001b[0m\u001b[0m\n\u001b[1;32m    510\u001b[0m \u001b[0;34m\u001b[0m\u001b[0m\n",
            "\u001b[0;32m/usr/local/lib/python3.6/dist-packages/sklearn/utils/metaestimators.py\u001b[0m in \u001b[0;36m_safe_split\u001b[0;34m(estimator, X, y, indices, train_indices)\u001b[0m\n\u001b[1;32m    199\u001b[0m             \u001b[0mX_subset\u001b[0m \u001b[0;34m=\u001b[0m \u001b[0mX\u001b[0m\u001b[0;34m[\u001b[0m\u001b[0mnp\u001b[0m\u001b[0;34m.\u001b[0m\u001b[0mix_\u001b[0m\u001b[0;34m(\u001b[0m\u001b[0mindices\u001b[0m\u001b[0;34m,\u001b[0m \u001b[0mtrain_indices\u001b[0m\u001b[0;34m)\u001b[0m\u001b[0;34m]\u001b[0m\u001b[0;34m\u001b[0m\u001b[0;34m\u001b[0m\u001b[0m\n\u001b[1;32m    200\u001b[0m     \u001b[0;32melse\u001b[0m\u001b[0;34m:\u001b[0m\u001b[0;34m\u001b[0m\u001b[0;34m\u001b[0m\u001b[0m\n\u001b[0;32m--> 201\u001b[0;31m         \u001b[0mX_subset\u001b[0m \u001b[0;34m=\u001b[0m \u001b[0m_safe_indexing\u001b[0m\u001b[0;34m(\u001b[0m\u001b[0mX\u001b[0m\u001b[0;34m,\u001b[0m \u001b[0mindices\u001b[0m\u001b[0;34m)\u001b[0m\u001b[0;34m\u001b[0m\u001b[0;34m\u001b[0m\u001b[0m\n\u001b[0m\u001b[1;32m    202\u001b[0m \u001b[0;34m\u001b[0m\u001b[0m\n\u001b[1;32m    203\u001b[0m     \u001b[0;32mif\u001b[0m \u001b[0my\u001b[0m \u001b[0;32mis\u001b[0m \u001b[0;32mnot\u001b[0m \u001b[0;32mNone\u001b[0m\u001b[0;34m:\u001b[0m\u001b[0;34m\u001b[0m\u001b[0;34m\u001b[0m\u001b[0m\n",
            "\u001b[0;32m/usr/local/lib/python3.6/dist-packages/sklearn/utils/__init__.py\u001b[0m in \u001b[0;36m_safe_indexing\u001b[0;34m(X, indices, axis)\u001b[0m\n\u001b[1;32m    411\u001b[0m         \u001b[0;32mreturn\u001b[0m \u001b[0m_pandas_indexing\u001b[0m\u001b[0;34m(\u001b[0m\u001b[0mX\u001b[0m\u001b[0;34m,\u001b[0m \u001b[0mindices\u001b[0m\u001b[0;34m,\u001b[0m \u001b[0mindices_dtype\u001b[0m\u001b[0;34m,\u001b[0m \u001b[0maxis\u001b[0m\u001b[0;34m=\u001b[0m\u001b[0maxis\u001b[0m\u001b[0;34m)\u001b[0m\u001b[0;34m\u001b[0m\u001b[0;34m\u001b[0m\u001b[0m\n\u001b[1;32m    412\u001b[0m     \u001b[0;32melif\u001b[0m \u001b[0mhasattr\u001b[0m\u001b[0;34m(\u001b[0m\u001b[0mX\u001b[0m\u001b[0;34m,\u001b[0m \u001b[0;34m\"shape\"\u001b[0m\u001b[0;34m)\u001b[0m\u001b[0;34m:\u001b[0m\u001b[0;34m\u001b[0m\u001b[0;34m\u001b[0m\u001b[0m\n\u001b[0;32m--> 413\u001b[0;31m         \u001b[0;32mreturn\u001b[0m \u001b[0m_array_indexing\u001b[0m\u001b[0;34m(\u001b[0m\u001b[0mX\u001b[0m\u001b[0;34m,\u001b[0m \u001b[0mindices\u001b[0m\u001b[0;34m,\u001b[0m \u001b[0mindices_dtype\u001b[0m\u001b[0;34m,\u001b[0m \u001b[0maxis\u001b[0m\u001b[0;34m=\u001b[0m\u001b[0maxis\u001b[0m\u001b[0;34m)\u001b[0m\u001b[0;34m\u001b[0m\u001b[0;34m\u001b[0m\u001b[0m\n\u001b[0m\u001b[1;32m    414\u001b[0m     \u001b[0;32melse\u001b[0m\u001b[0;34m:\u001b[0m\u001b[0;34m\u001b[0m\u001b[0;34m\u001b[0m\u001b[0m\n\u001b[1;32m    415\u001b[0m         \u001b[0;32mreturn\u001b[0m \u001b[0m_list_indexing\u001b[0m\u001b[0;34m(\u001b[0m\u001b[0mX\u001b[0m\u001b[0;34m,\u001b[0m \u001b[0mindices\u001b[0m\u001b[0;34m,\u001b[0m \u001b[0mindices_dtype\u001b[0m\u001b[0;34m)\u001b[0m\u001b[0;34m\u001b[0m\u001b[0;34m\u001b[0m\u001b[0m\n",
            "\u001b[0;32m/usr/local/lib/python3.6/dist-packages/sklearn/utils/__init__.py\u001b[0m in \u001b[0;36m_array_indexing\u001b[0;34m(array, key, key_dtype, axis)\u001b[0m\n\u001b[1;32m    197\u001b[0m     \u001b[0;32mif\u001b[0m \u001b[0misinstance\u001b[0m\u001b[0;34m(\u001b[0m\u001b[0mkey\u001b[0m\u001b[0;34m,\u001b[0m \u001b[0mtuple\u001b[0m\u001b[0;34m)\u001b[0m\u001b[0;34m:\u001b[0m\u001b[0;34m\u001b[0m\u001b[0;34m\u001b[0m\u001b[0m\n\u001b[1;32m    198\u001b[0m         \u001b[0mkey\u001b[0m \u001b[0;34m=\u001b[0m \u001b[0mlist\u001b[0m\u001b[0;34m(\u001b[0m\u001b[0mkey\u001b[0m\u001b[0;34m)\u001b[0m\u001b[0;34m\u001b[0m\u001b[0;34m\u001b[0m\u001b[0m\n\u001b[0;32m--> 199\u001b[0;31m     \u001b[0;32mreturn\u001b[0m \u001b[0marray\u001b[0m\u001b[0;34m[\u001b[0m\u001b[0mkey\u001b[0m\u001b[0;34m]\u001b[0m \u001b[0;32mif\u001b[0m \u001b[0maxis\u001b[0m \u001b[0;34m==\u001b[0m \u001b[0;36m0\u001b[0m \u001b[0;32melse\u001b[0m \u001b[0marray\u001b[0m\u001b[0;34m[\u001b[0m\u001b[0;34m:\u001b[0m\u001b[0;34m,\u001b[0m \u001b[0mkey\u001b[0m\u001b[0;34m]\u001b[0m\u001b[0;34m\u001b[0m\u001b[0;34m\u001b[0m\u001b[0m\n\u001b[0m\u001b[1;32m    200\u001b[0m \u001b[0;34m\u001b[0m\u001b[0m\n\u001b[1;32m    201\u001b[0m \u001b[0;34m\u001b[0m\u001b[0m\n",
            "\u001b[0;31mKeyboardInterrupt\u001b[0m: "
          ]
        }
      ]
    },
    {
      "cell_type": "code",
      "metadata": {
        "colab": {
          "base_uri": "https://localhost:8080/",
          "height": 383
        },
        "id": "T8MbfzgtGB1S",
        "outputId": "1a7a5998-5548-4e6a-c30b-6a36a3806750"
      },
      "source": [
        "df = pd.DataFrame(results_cross_validation,columns=['k','time_id', 'accuracy'])\n",
        "\n",
        "seaborn.relplot(data = df,\n",
        "                x = 'k',\n",
        "                y = 'accuracy',\n",
        "                kind = 'line')\n",
        "plt.show()"
      ],
      "execution_count": 21,
      "outputs": [
        {
          "output_type": "display_data",
          "data": {
            "image/png": "[encoded data removed]",
            "text/plain": [
              "<Figure size 360x360 with 1 Axes>"
            ]
          },
          "metadata": {
            "tags": [],
            "needs_background": "light"
          }
        }
      ]
    },
    {
      "cell_type": "markdown",
      "metadata": {
        "id": "BPyEYaM9Wwh_"
      },
      "source": [
        "## Utilizando o $k$-fold cross-validation para seleção do modelo"
      ]
    },
    {
      "cell_type": "code",
      "metadata": {
        "colab": {
          "base_uri": "https://localhost:8080/",
          "height": 979
        },
        "id": "gW5DvVSEIYN4",
        "outputId": "f774bf6f-5086-4f80-f4dd-05c32acdfea0"
      },
      "source": [
        "results = pd.DataFrame(columns=['n_neighbors', 'accuracy'])\n",
        "\n",
        "for n_neighbors in range(1, 31):\n",
        "  knn = KNeighborsClassifier(n_neighbors = n_neighbors)\n",
        "  scores = cross_val_score(knn, X_train_processed, y_train, cv=9, scoring='accuracy')\n",
        "  results = results.append({'n_neighbors' : n_neighbors,\n",
        "                  'accuracy' : np.mean(scores)}, ignore_index = True)\n",
        "\n",
        "results"
      ],
      "execution_count": 22,
      "outputs": [
        {
          "output_type": "execute_result",
          "data": {
            "text/html": [
              "<div>\n",
              "<style scoped>\n",
              "    .dataframe tbody tr th:only-of-type {\n",
              "        vertical-align: middle;\n",
              "    }\n",
              "\n",
              "    .dataframe tbody tr th {\n",
              "        vertical-align: top;\n",
              "    }\n",
              "\n",
              "    .dataframe thead th {\n",
              "        text-align: right;\n",
              "    }\n",
              "</style>\n",
              "<table border=\"1\" class=\"dataframe\">\n",
              "  <thead>\n",
              "    <tr style=\"text-align: right;\">\n",
              "      <th></th>\n",
              "      <th>n_neighbors</th>\n",
              "      <th>accuracy</th>\n",
              "    </tr>\n",
              "  </thead>\n",
              "  <tbody>\n",
              "    <tr>\n",
              "      <th>0</th>\n",
              "      <td>1.0</td>\n",
              "      <td>0.849391</td>\n",
              "    </tr>\n",
              "    <tr>\n",
              "      <th>1</th>\n",
              "      <td>2.0</td>\n",
              "      <td>0.833227</td>\n",
              "    </tr>\n",
              "    <tr>\n",
              "      <th>2</th>\n",
              "      <td>3.0</td>\n",
              "      <td>0.865541</td>\n",
              "    </tr>\n",
              "    <tr>\n",
              "      <th>3</th>\n",
              "      <td>4.0</td>\n",
              "      <td>0.861135</td>\n",
              "    </tr>\n",
              "    <tr>\n",
              "      <th>4</th>\n",
              "      <td>5.0</td>\n",
              "      <td>0.862617</td>\n",
              "    </tr>\n",
              "    <tr>\n",
              "      <th>5</th>\n",
              "      <td>6.0</td>\n",
              "      <td>0.858942</td>\n",
              "    </tr>\n",
              "    <tr>\n",
              "      <th>6</th>\n",
              "      <td>7.0</td>\n",
              "      <td>0.871418</td>\n",
              "    </tr>\n",
              "    <tr>\n",
              "      <th>7</th>\n",
              "      <td>8.0</td>\n",
              "      <td>0.870672</td>\n",
              "    </tr>\n",
              "    <tr>\n",
              "      <th>8</th>\n",
              "      <td>9.0</td>\n",
              "      <td>0.874361</td>\n",
              "    </tr>\n",
              "    <tr>\n",
              "      <th>9</th>\n",
              "      <td>10.0</td>\n",
              "      <td>0.869230</td>\n",
              "    </tr>\n",
              "    <tr>\n",
              "      <th>10</th>\n",
              "      <td>11.0</td>\n",
              "      <td>0.865555</td>\n",
              "    </tr>\n",
              "    <tr>\n",
              "      <th>11</th>\n",
              "      <td>12.0</td>\n",
              "      <td>0.871427</td>\n",
              "    </tr>\n",
              "    <tr>\n",
              "      <th>12</th>\n",
              "      <td>13.0</td>\n",
              "      <td>0.872914</td>\n",
              "    </tr>\n",
              "    <tr>\n",
              "      <th>13</th>\n",
              "      <td>14.0</td>\n",
              "      <td>0.871437</td>\n",
              "    </tr>\n",
              "    <tr>\n",
              "      <th>14</th>\n",
              "      <td>15.0</td>\n",
              "      <td>0.872173</td>\n",
              "    </tr>\n",
              "    <tr>\n",
              "      <th>15</th>\n",
              "      <td>16.0</td>\n",
              "      <td>0.871442</td>\n",
              "    </tr>\n",
              "    <tr>\n",
              "      <th>16</th>\n",
              "      <td>17.0</td>\n",
              "      <td>0.874380</td>\n",
              "    </tr>\n",
              "    <tr>\n",
              "      <th>17</th>\n",
              "      <td>18.0</td>\n",
              "      <td>0.870701</td>\n",
              "    </tr>\n",
              "    <tr>\n",
              "      <th>18</th>\n",
              "      <td>19.0</td>\n",
              "      <td>0.875107</td>\n",
              "    </tr>\n",
              "    <tr>\n",
              "      <th>19</th>\n",
              "      <td>20.0</td>\n",
              "      <td>0.872894</td>\n",
              "    </tr>\n",
              "    <tr>\n",
              "      <th>20</th>\n",
              "      <td>21.0</td>\n",
              "      <td>0.876568</td>\n",
              "    </tr>\n",
              "    <tr>\n",
              "      <th>21</th>\n",
              "      <td>22.0</td>\n",
              "      <td>0.875828</td>\n",
              "    </tr>\n",
              "    <tr>\n",
              "      <th>22</th>\n",
              "      <td>23.0</td>\n",
              "      <td>0.876564</td>\n",
              "    </tr>\n",
              "    <tr>\n",
              "      <th>23</th>\n",
              "      <td>24.0</td>\n",
              "      <td>0.875833</td>\n",
              "    </tr>\n",
              "    <tr>\n",
              "      <th>24</th>\n",
              "      <td>25.0</td>\n",
              "      <td>0.875833</td>\n",
              "    </tr>\n",
              "    <tr>\n",
              "      <th>25</th>\n",
              "      <td>26.0</td>\n",
              "      <td>0.875082</td>\n",
              "    </tr>\n",
              "    <tr>\n",
              "      <th>26</th>\n",
              "      <td>27.0</td>\n",
              "      <td>0.875828</td>\n",
              "    </tr>\n",
              "    <tr>\n",
              "      <th>27</th>\n",
              "      <td>28.0</td>\n",
              "      <td>0.875823</td>\n",
              "    </tr>\n",
              "    <tr>\n",
              "      <th>28</th>\n",
              "      <td>29.0</td>\n",
              "      <td>0.875097</td>\n",
              "    </tr>\n",
              "    <tr>\n",
              "      <th>29</th>\n",
              "      <td>30.0</td>\n",
              "      <td>0.875092</td>\n",
              "    </tr>\n",
              "  </tbody>\n",
              "</table>\n",
              "</div>"
            ],
            "text/plain": [
              "    n_neighbors  accuracy\n",
              "0           1.0  0.849391\n",
              "1           2.0  0.833227\n",
              "2           3.0  0.865541\n",
              "3           4.0  0.861135\n",
              "4           5.0  0.862617\n",
              "5           6.0  0.858942\n",
              "6           7.0  0.871418\n",
              "7           8.0  0.870672\n",
              "8           9.0  0.874361\n",
              "9          10.0  0.869230\n",
              "10         11.0  0.865555\n",
              "11         12.0  0.871427\n",
              "12         13.0  0.872914\n",
              "13         14.0  0.871437\n",
              "14         15.0  0.872173\n",
              "15         16.0  0.871442\n",
              "16         17.0  0.874380\n",
              "17         18.0  0.870701\n",
              "18         19.0  0.875107\n",
              "19         20.0  0.872894\n",
              "20         21.0  0.876568\n",
              "21         22.0  0.875828\n",
              "22         23.0  0.876564\n",
              "23         24.0  0.875833\n",
              "24         25.0  0.875833\n",
              "25         26.0  0.875082\n",
              "26         27.0  0.875828\n",
              "27         28.0  0.875823\n",
              "28         29.0  0.875097\n",
              "29         30.0  0.875092"
            ]
          },
          "metadata": {
            "tags": []
          },
          "execution_count": 22
        }
      ]
    },
    {
      "cell_type": "code",
      "metadata": {
        "colab": {
          "base_uri": "https://localhost:8080/",
          "height": 401
        },
        "id": "K0klbLWCNqLa",
        "outputId": "5572e1c0-aa23-494f-caf1-6fdbece929f7"
      },
      "source": [
        "import seaborn\n",
        "import matplotlib.pyplot as plt\n",
        "\n",
        "melhor_k = int(results[results.accuracy == results.accuracy.max()]['n_neighbors'].values[0])\n",
        "\n",
        "seaborn.relplot(data = results,\n",
        "                x = 'n_neighbors',\n",
        "                y = 'accuracy',\n",
        "                kind = 'line')\n",
        "plt.axvline(x=melhor_k, color=\"black\", linestyle= \"--\")\n",
        "\n",
        "print(\"O k que maximiza a acurácia no conjunto de treinamento é: {}\".format(melhor_k))"
      ],
      "execution_count": 23,
      "outputs": [
        {
          "output_type": "stream",
          "text": [
            "O k que maximiza a acurácia no conjunto de treinamento é: 21\n"
          ],
          "name": "stdout"
        },
        {
          "output_type": "display_data",
          "data": {
            "image/png": "[encoded data removed]",
            "text/plain": [
              "<Figure size 360x360 with 1 Axes>"
            ]
          },
          "metadata": {
            "tags": [],
            "needs_background": "light"
          }
        }
      ]
    },
    {
      "cell_type": "code",
      "metadata": {
        "colab": {
          "base_uri": "https://localhost:8080/"
        },
        "id": "qbVJtrKwXm2f",
        "outputId": "bc4a7382-baf2-4bf3-df7b-6a842df86d76"
      },
      "source": [
        "knn_melhor_k = KNeighborsClassifier(n_neighbors=melhor_k)\n",
        "knn_melhor_k.fit(X_train_processed, y_train)\n",
        "\n",
        "y_pred = knn_melhor_k.predict(X_test_processed)\n",
        "\n",
        "accuracy = accuracy_score(y_true = y_test, \n",
        "                          y_pred = y_pred)\n",
        "\n",
        "accuracy"
      ],
      "execution_count": 24,
      "outputs": [
        {
          "output_type": "execute_result",
          "data": {
            "text/plain": [
              "0.8784246575342466"
            ]
          },
          "metadata": {
            "tags": []
          },
          "execution_count": 24
        }
      ]
    },
    {
      "cell_type": "code",
      "metadata": {
        "colab": {
          "base_uri": "https://localhost:8080/"
        },
        "id": "95hw_1T0YoyJ",
        "outputId": "81ad59ed-cc65-478e-a1d1-aad264e7a45a"
      },
      "source": [
        "from sklearn.model_selection import GridSearchCV\n",
        "\n",
        "grid_valores = {\"n_neighbors\": range(1, 31)}\n",
        "\n",
        "knn_automatico = GridSearchCV(estimator = KNeighborsClassifier(), \n",
        "                              param_grid = grid_valores, \n",
        "                              cv = 10,\n",
        "                              scoring = 'accuracy',\n",
        "                              refit = True)\n",
        "\n",
        "knn_automatico.fit(X_train_processed, y_train)\n",
        "\n",
        "print(\"Melhor parâmetro do modelo knn: \")\n",
        "print(knn_automatico.best_params_)\n",
        "\n",
        "print(\"Desempenho médio no fold de validação: \")\n",
        "print(np.mean(knn_automatico.cv_results_['mean_test_score']))\n",
        "\n",
        "y_pred = knn_automatico.predict(X_test_processed)\n",
        "\n",
        "accuracy = accuracy_score(y_true = y_test, \n",
        "                          y_pred = y_pred)\n",
        "\n",
        "print(\"Desempenho médio no fold de teste: \")\n",
        "accuracy\n"
      ],
      "execution_count": 25,
      "outputs": [
        {
          "output_type": "stream",
          "text": [
            "/usr/local/lib/python3.6/dist-packages/sklearn/model_selection/_split.py:667: UserWarning: The least populated class in y has only 9 members, which is less than n_splits=10.\n",
            "  % (min_groups, self.n_splits)), UserWarning)\n"
          ],
          "name": "stderr"
        },
        {
          "output_type": "stream",
          "text": [
            "Melhor parâmetro do modelo knn: \n",
            "{'n_neighbors': 28}\n",
            "Desempenho médio no fold de validação: \n",
            "0.8687467797337912\n",
            "Desempenho médio no fold de teste: \n"
          ],
          "name": "stdout"
        },
        {
          "output_type": "execute_result",
          "data": {
            "text/plain": [
              "0.8767123287671232"
            ]
          },
          "metadata": {
            "tags": []
          },
          "execution_count": 25
        }
      ]
    },
    {
      "cell_type": "code",
      "metadata": {
        "id": "2zUdcphTao4F"
      },
      "source": [
        "from sklearn.pipeline import Pipeline\n",
        "\n",
        "pipeline = Pipeline([\n",
        "    (\"preprocessamento\", encoder_imputer_scaled_transformer),\n",
        "    (\"knn\", KNeighborsClassifier())\n",
        "])\n",
        "\n",
        "grid_valores = {\"knn__n_neighbors\": range(1, 31)}\n",
        "\n",
        "classificador = GridSearchCV(estimator = pipeline, \n",
        "                              param_grid = grid_valores,\n",
        "                              cv = 9, \n",
        "                              scoring = \"accuracy\", \n",
        "                              refit = True)"
      ],
      "execution_count": 26,
      "outputs": []
    },
    {
      "cell_type": "code",
      "metadata": {
        "colab": {
          "base_uri": "https://localhost:8080/"
        },
        "id": "6BwRlWo1d4sy",
        "outputId": "435eae59-67b5-4c84-989c-a4931d19d282"
      },
      "source": [
        "classificador.fit(X_train, y_train)"
      ],
      "execution_count": 37,
      "outputs": [
        {
          "output_type": "execute_result",
          "data": {
            "text/plain": [
              "GridSearchCV(cv=9, error_score=nan,\n",
              "             estimator=Pipeline(memory=None,\n",
              "                                steps=[('preprocessamento',\n",
              "                                        ColumnTransformer(n_jobs=None,\n",
              "                                                          remainder='passthrough',\n",
              "                                                          sparse_threshold=0.3,\n",
              "                                                          transformer_weights=None,\n",
              "                                                          transformers=[('pipeline-1',\n",
              "                                                                         Pipeline(memory=None,\n",
              "                                                                                  steps=[('knnimputer',\n",
              "                                                                                          KNNImputer(add_indicator=False,\n",
              "                                                                                                     copy=True,\n",
              "                                                                                                     metric='nan_euclidean',\n",
              "                                                                                                     missing_values=nan,\n",
              "                                                                                                     n_nei...\n",
              "                                                                         <sklearn.compose._column_transformer.make_column_selector object at 0x7faafa327320>)],\n",
              "                                                          verbose=False)),\n",
              "                                       ('knn',\n",
              "                                        KNeighborsClassifier(algorithm='auto',\n",
              "                                                             leaf_size=30,\n",
              "                                                             metric='minkowski',\n",
              "                                                             metric_params=None,\n",
              "                                                             n_jobs=None,\n",
              "                                                             n_neighbors=5, p=2,\n",
              "                                                             weights='uniform'))],\n",
              "                                verbose=False),\n",
              "             iid='deprecated', n_jobs=None,\n",
              "             param_grid={'knn__n_neighbors': range(1, 31)},\n",
              "             pre_dispatch='2*n_jobs', refit=True, return_train_score=False,\n",
              "             scoring='accuracy', verbose=0)"
            ]
          },
          "metadata": {
            "tags": []
          },
          "execution_count": 37
        }
      ]
    },
    {
      "cell_type": "code",
      "metadata": {
        "colab": {
          "base_uri": "https://localhost:8080/"
        },
        "id": "LO1r5EGUd05z",
        "outputId": "9e28d0fa-6735-43cf-cf1a-82f5d9270609"
      },
      "source": [
        "print(\"Melhor parâmetro do modelo knn: \")\n",
        "print(classificador.best_params_)\n",
        "\n",
        "print(\"Desempenho médio no fold de teste: \")\n",
        "print(np.mean(classificador.cv_results_['mean_test_score']))"
      ],
      "execution_count": 28,
      "outputs": [
        {
          "output_type": "stream",
          "text": [
            "Melhor parâmetro do modelo knn: \n",
            "{'knn__n_neighbors': 22}\n",
            "Desempenho médio no fold de teste: \n",
            "0.8689046706169398\n"
          ],
          "name": "stdout"
        }
      ]
    },
    {
      "cell_type": "markdown",
      "metadata": {
        "id": "4mF6lx20IwhC"
      },
      "source": [
        "Pushing to the limits"
      ]
    },
    {
      "cell_type": "code",
      "metadata": {
        "colab": {
          "base_uri": "https://localhost:8080/"
        },
        "id": "z3kjXnR3umAY",
        "outputId": "5675fd39-71da-4503-c150-1ee0f120fb5c"
      },
      "source": [
        "from sklearn.compose import ColumnTransformer\n",
        "\n",
        "pipeline_estendido = Pipeline([\n",
        "    (\"pre_process\", make_column_transformer(\n",
        "                              (Pipeline([\n",
        "                                  ('imputer', KNNImputer(n_neighbors = 3)),\n",
        "                                  ('scaler', StandardScaler())\n",
        "                              ]) , make_column_selector(dtype_include = np.number)),\n",
        "                              (Pipeline([\n",
        "                                  (\"imputer\", SimpleImputer(strategy = 'most_frequent', fill_value = \"unknown\")),\n",
        "                                  (\"encoder\", OneHotEncoder(handle_unknown = 'ignore'))\n",
        "                              ]), make_column_selector(dtype_exclude = np.number))\n",
        "                          )),\n",
        "    (\"knn\", KNeighborsClassifier())                           \n",
        "])\n",
        "\n",
        "pipeline_estendido"
      ],
      "execution_count": 39,
      "outputs": [
        {
          "output_type": "execute_result",
          "data": {
            "text/plain": [
              "Pipeline(memory=None,\n",
              "         steps=[('pre_process',\n",
              "                 ColumnTransformer(n_jobs=None, remainder='drop',\n",
              "                                   sparse_threshold=0.3,\n",
              "                                   transformer_weights=None,\n",
              "                                   transformers=[('pipeline-1',\n",
              "                                                  Pipeline(memory=None,\n",
              "                                                           steps=[('imputer',\n",
              "                                                                   KNNImputer(add_indicator=False,\n",
              "                                                                              copy=True,\n",
              "                                                                              metric='nan_euclidean',\n",
              "                                                                              missing_values=nan,\n",
              "                                                                              n_neighbors=3,\n",
              "                                                                              weights='uniform')),\n",
              "                                                                  ('scaler',\n",
              "                                                                   StandardScaler(copy=...\n",
              "                                                                                 drop=None,\n",
              "                                                                                 dtype=<class 'numpy.float64'>,\n",
              "                                                                                 handle_unknown='ignore',\n",
              "                                                                                 sparse=True))],\n",
              "                                                           verbose=False),\n",
              "                                                  <sklearn.compose._column_transformer.make_column_selector object at 0x7faaf5903898>)],\n",
              "                                   verbose=False)),\n",
              "                ('knn',\n",
              "                 KNeighborsClassifier(algorithm='auto', leaf_size=30,\n",
              "                                      metric='minkowski', metric_params=None,\n",
              "                                      n_jobs=None, n_neighbors=5, p=2,\n",
              "                                      weights='uniform'))],\n",
              "         verbose=False)"
            ]
          },
          "metadata": {
            "tags": []
          },
          "execution_count": 39
        }
      ]
    },
    {
      "cell_type": "code",
      "metadata": {
        "id": "SMBMZkiiuoot"
      },
      "source": [
        "#import pprint as pp\n",
        "#pp.pprint(sorted(pipeline_estendido.get_params().keys()))"
      ],
      "execution_count": 31,
      "outputs": []
    },
    {
      "cell_type": "code",
      "metadata": {
        "id": "jjH_wQJBDr7v"
      },
      "source": [
        "param_grid_estendido = {\n",
        "    \"pre_process__pipeline-1__imputer__n_neighbors\": range(1, 5),\n",
        "    \"pre_process__pipeline-2__imputer__strategy\": ['most_frequent', 'constant'],\n",
        "    \"knn__n_neighbors\": range(1, 10)\n",
        "}\n",
        "\n",
        "classificador_estendido = GridSearchCV(estimator = pipeline_estendido,\n",
        "                                       param_grid = param_grid_estendido,\n",
        "                                       scoring = \"accuracy\",\n",
        "                                       cv = 5,\n",
        "                                       refit = True)"
      ],
      "execution_count": 41,
      "outputs": []
    },
    {
      "cell_type": "code",
      "metadata": {
        "colab": {
          "base_uri": "https://localhost:8080/"
        },
        "id": "6YJyQqPMJMbT",
        "outputId": "17960e1d-b690-485f-d66b-b41f8ab594fb"
      },
      "source": [
        "classificador_estendido.fit(X_train, y_train)"
      ],
      "execution_count": 42,
      "outputs": [
        {
          "output_type": "execute_result",
          "data": {
            "text/plain": [
              "GridSearchCV(cv=5, error_score=nan,\n",
              "             estimator=Pipeline(memory=None,\n",
              "                                steps=[('pre_process',\n",
              "                                        ColumnTransformer(n_jobs=None,\n",
              "                                                          remainder='drop',\n",
              "                                                          sparse_threshold=0.3,\n",
              "                                                          transformer_weights=None,\n",
              "                                                          transformers=[('pipeline-1',\n",
              "                                                                         Pipeline(memory=None,\n",
              "                                                                                  steps=[('imputer',\n",
              "                                                                                          KNNImputer(add_indicator=False,\n",
              "                                                                                                     copy=True,\n",
              "                                                                                                     metric='nan_euclidean',\n",
              "                                                                                                     missing_values=nan,\n",
              "                                                                                                     n_neighbors=3,\n",
              "                                                                                                     weight...\n",
              "                                                             n_jobs=None,\n",
              "                                                             n_neighbors=5, p=2,\n",
              "                                                             weights='uniform'))],\n",
              "                                verbose=False),\n",
              "             iid='deprecated', n_jobs=None,\n",
              "             param_grid={'knn__n_neighbors': range(1, 10),\n",
              "                         'pre_process__pipeline-1__imputer__n_neighbors': range(1, 5),\n",
              "                         'pre_process__pipeline-2__imputer__strategy': ['most_frequent',\n",
              "                                                                        'constant']},\n",
              "             pre_dispatch='2*n_jobs', refit=True, return_train_score=False,\n",
              "             scoring='accuracy', verbose=0)"
            ]
          },
          "metadata": {
            "tags": []
          },
          "execution_count": 42
        }
      ]
    },
    {
      "cell_type": "code",
      "metadata": {
        "colab": {
          "base_uri": "https://localhost:8080/"
        },
        "id": "zMYkL8liJeF7",
        "outputId": "c75dd7f4-96c6-4c4c-b821-2ed0b83a104d"
      },
      "source": [
        "classificador_estendido.best_params_"
      ],
      "execution_count": 43,
      "outputs": [
        {
          "output_type": "execute_result",
          "data": {
            "text/plain": [
              "{'knn__n_neighbors': 6,\n",
              " 'pre_process__pipeline-1__imputer__n_neighbors': 1,\n",
              " 'pre_process__pipeline-2__imputer__strategy': 'most_frequent'}"
            ]
          },
          "metadata": {
            "tags": []
          },
          "execution_count": 43
        }
      ]
    },
    {
      "cell_type": "code",
      "metadata": {
        "id": "HPD3xIIbKBPH"
      },
      "source": [
        "y_pred = classificador_estendido.predict(X_test)\n",
        "\n",
        "accuracy_score(y_pred = y_pred,\n",
        "               y_true = y_test)"
      ],
      "execution_count": null,
      "outputs": []
    },
    {
      "cell_type": "code",
      "metadata": {
        "id": "hUeVKyfPJiMo"
      },
      "source": [
        "param_grid_estendido = {\n",
        "    \"pre_process__pipeline-1__imputer__n_neighbors\": range(1, 5),\n",
        "    \"pre_process__pipeline-1__scaler\": [\"passthrough\", StandardScaler()], # o passo de normalização torna-se opcional\n",
        "    \"pre_process__pipeline-2__imputer__strategy\": ['most_frequent', 'constant'],\n",
        "    \"knn__n_neighbors\": range(1, 10)\n",
        "}\n",
        "\n",
        "classificador_estendido = GridSearchCV(estimator = pipeline_estendido,\n",
        "                                       param_grid = param_grid_estendido,\n",
        "                                       scoring = \"accuracy\",\n",
        "                                       cv = 5,\n",
        "                                       refit = True)"
      ],
      "execution_count": 45,
      "outputs": []
    },
    {
      "cell_type": "code",
      "metadata": {
        "colab": {
          "base_uri": "https://localhost:8080/"
        },
        "id": "IDZG70aZKHIb",
        "outputId": "82e100f5-d4d0-4996-b546-43b4983a744f"
      },
      "source": [
        "classificador_estendido.fit(X_train, y_train)"
      ],
      "execution_count": 46,
      "outputs": [
        {
          "output_type": "execute_result",
          "data": {
            "text/plain": [
              "GridSearchCV(cv=5, error_score=nan,\n",
              "             estimator=Pipeline(memory=None,\n",
              "                                steps=[('pre_process',\n",
              "                                        ColumnTransformer(n_jobs=None,\n",
              "                                                          remainder='drop',\n",
              "                                                          sparse_threshold=0.3,\n",
              "                                                          transformer_weights=None,\n",
              "                                                          transformers=[('pipeline-1',\n",
              "                                                                         Pipeline(memory=None,\n",
              "                                                                                  steps=[('imputer',\n",
              "                                                                                          KNNImputer(add_indicator=False,\n",
              "                                                                                                     copy=True,\n",
              "                                                                                                     metric='nan_euclidean',\n",
              "                                                                                                     missing_values=nan,\n",
              "                                                                                                     n_neighbors=3,\n",
              "                                                                                                     weight...\n",
              "             param_grid={'knn__n_neighbors': range(1, 10),\n",
              "                         'pre_process__pipeline-1__imputer__n_neighbors': range(1, 5),\n",
              "                         'pre_process__pipeline-1__scaler': ['passthrough',\n",
              "                                                             StandardScaler(copy=True,\n",
              "                                                                            with_mean=True,\n",
              "                                                                            with_std=True)],\n",
              "                         'pre_process__pipeline-2__imputer__strategy': ['most_frequent',\n",
              "                                                                        'constant']},\n",
              "             pre_dispatch='2*n_jobs', refit=True, return_train_score=False,\n",
              "             scoring='accuracy', verbose=0)"
            ]
          },
          "metadata": {
            "tags": []
          },
          "execution_count": 46
        }
      ]
    },
    {
      "cell_type": "code",
      "metadata": {
        "id": "yil40pOKJ0-Z"
      },
      "source": [
        "classificador_estendido.fit(X_train, y_train)"
      ],
      "execution_count": null,
      "outputs": []
    },
    {
      "cell_type": "code",
      "metadata": {
        "colab": {
          "base_uri": "https://localhost:8080/"
        },
        "id": "8v8YlDIaKTJP",
        "outputId": "73dd5e34-f3cc-44ab-c170-2ed5a73f0cc1"
      },
      "source": [
        "classificador_estendido.best_params_"
      ],
      "execution_count": 47,
      "outputs": [
        {
          "output_type": "execute_result",
          "data": {
            "text/plain": [
              "{'knn__n_neighbors': 9,\n",
              " 'pre_process__pipeline-1__imputer__n_neighbors': 1,\n",
              " 'pre_process__pipeline-1__scaler': 'passthrough',\n",
              " 'pre_process__pipeline-2__imputer__strategy': 'most_frequent'}"
            ]
          },
          "metadata": {
            "tags": []
          },
          "execution_count": 47
        }
      ]
    },
    {
      "cell_type": "code",
      "metadata": {
        "colab": {
          "base_uri": "https://localhost:8080/"
        },
        "id": "fSVsmHWYKWe5",
        "outputId": "60b218d4-99a1-470a-f161-490eda31090f"
      },
      "source": [
        "y_pred = classificador_estendido.predict(X_test)\n",
        "\n",
        "accuracy_score(y_pred = y_pred,\n",
        "               y_true = y_test)"
      ],
      "execution_count": 48,
      "outputs": [
        {
          "output_type": "execute_result",
          "data": {
            "text/plain": [
              "0.8784246575342466"
            ]
          },
          "metadata": {
            "tags": []
          },
          "execution_count": 48
        }
      ]
    },
    {
      "cell_type": "markdown",
      "metadata": {
        "id": "oFjvWwaiKioX"
      },
      "source": [
        "Sumarização"
      ]
    },
    {
      "cell_type": "code",
      "metadata": {
        "colab": {
          "base_uri": "https://localhost:8080/"
        },
        "id": "Bh00E_48DEue",
        "outputId": "550cbd3e-74ec-44b8-8749-856275ec965d"
      },
      "source": [
        "from sklearn.metrics import confusion_matrix\n",
        "\n",
        "confusion_matrix(y_pred = y_pred,\n",
        "                 y_true = y_test)"
      ],
      "execution_count": 49,
      "outputs": [
        {
          "output_type": "execute_result",
          "data": {
            "text/plain": [
              "array([[  0,   0,   0,   7],\n",
              "       [  0,   2,   0,  59],\n",
              "       [  0,   0,   0,   2],\n",
              "       [  0,   3,   0, 511]])"
            ]
          },
          "metadata": {
            "tags": []
          },
          "execution_count": 49
        }
      ]
    },
    {
      "cell_type": "code",
      "metadata": {
        "colab": {
          "base_uri": "https://localhost:8080/",
          "height": 296
        },
        "id": "OfWPB3i-KvMq",
        "outputId": "d56a7c8a-3428-4dd4-9a2b-f6018931e0c5"
      },
      "source": [
        "from sklearn.metrics import plot_confusion_matrix\n",
        "\n",
        "plot_confusion_matrix(classificador_estendido, X_test, y_test, values_format = '')"
      ],
      "execution_count": 50,
      "outputs": [
        {
          "output_type": "execute_result",
          "data": {
            "text/plain": [
              "<sklearn.metrics._plot.confusion_matrix.ConfusionMatrixDisplay at 0x7faaf58fe2b0>"
            ]
          },
          "metadata": {
            "tags": []
          },
          "execution_count": 50
        },
        {
          "output_type": "display_data",
          "data": {
            "image/png": "[encoded data removed]",
            "text/plain": [
              "<Figure size 432x288 with 2 Axes>"
            ]
          },
          "metadata": {
            "tags": [],
            "needs_background": "light"
          }
        }
      ]
    }
  ]
}